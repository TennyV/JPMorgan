{
 "cells": [
  {
   "cell_type": "markdown",
   "id": "bb163b7b",
   "metadata": {
    "id": "bb163b7b"
   },
   "source": [
    "Step 1. Ensure that you have the dataset file named `transactions.csv` in the current directory.\n",
    "\n",
    "The dataset is a subset of https://www.kaggle.com/ealaxi/paysim1/version/2 which was originally generated as part of the following research:\n",
    "\n",
    "E. A. Lopez-Rojas , A. Elmir, and S. Axelsson. \"PaySim: A financial mobile money simulator for fraud detection\". In: The 28th European Modeling and Simulation Symposium-EMSS, Larnaca, Cyprus. 2016"
   ]
  },
  {
   "cell_type": "markdown",
   "id": "72c898bd",
   "metadata": {
    "id": "72c898bd"
   },
   "source": [
    "Step 2. Complete the following exercises.\n",
    "\n",
    "0. Read the dataset (`transactions.csv`) as a Pandas dataframe. Note that the first row of the CSV contains the column names.\n",
    "\n",
    "0. Return the column names as a list from the dataframe.\n",
    "\n",
    "0. Return the first k rows from the dataframe.\n",
    "\n",
    "0. Return a random sample of k rows from the dataframe.\n",
    "\n",
    "0. Return a list of the unique transaction types.\n",
    "\n",
    "0. Return a Pandas series of the top 10 transaction destinations with frequencies.\n",
    "\n",
    "0. Return all the rows from the dataframe for which fraud was detected.\n",
    "\n",
    "0. Bonus. Return a dataframe that contains the number of distinct destinations that each source has interacted with to, sorted in descending order. You will find [groupby](https://pandas.pydata.org/pandas-docs/stable/reference/api/pandas.DataFrame.groupby.html) and [agg](https://pandas.pydata.org/pandas-docs/stable/reference/api/pandas.core.groupby.DataFrameGroupBy.aggregate.html) useful. The predefined aggregate functions are under `pandas.core.groupby.GroupBy.*`. See the [left hand column](https://pandas.pydata.org/pandas-docs/stable/reference/api/pandas.core.groupby.DataFrameGroupBy.nunique.html)."
   ]
  },
  {
   "cell_type": "markdown",
   "id": "2f146b9d",
   "metadata": {
    "id": "2f146b9d"
   },
   "source": [
    "Use the empty cell to test the exercises. If you modify the original `df`, you can rerun the cell containing `exercise_0`."
   ]
  },
  {
   "cell_type": "code",
   "execution_count": 28,
   "id": "EDd3m5pMN01e",
   "metadata": {
    "id": "EDd3m5pMN01e"
   },
   "outputs": [],
   "source": [
    "import pandas as pd\n",
    "import matplotlib.pyplot as plt\n",
    "\n",
    "def exercise_0(file):\n",
    "    df = pandas.read_csv('transactions.csv')\n",
    "    pass\n",
    "\n",
    "def exercise_1(df):\n",
    "    list(df.columns.values)\n",
    "    pass\n",
    "\n",
    "def exercise_2(df, k):\n",
    "    df1 = df.head(k)\n",
    "    print(df1)\n",
    "    pass\n",
    "\n",
    "def exercise_3(df, k):\n",
    "    df.sample(k)\n",
    "    pass\n",
    "\n",
    "def exercise_4(df):\n",
    "    print(pd.unique(df['type']))\n",
    "    pass\n",
    "\n",
    "def exercise_5(df):\n",
    "    df1 = df['nameDest'].value_counts().iloc[:10].rename_axis('Top Ten Frequencies of Destination').reset_index(name='count')\n",
    "    print(df1)\n",
    "    pass\n",
    "\n",
    "def exercise_6(df):\n",
    "    df.loc[df['isFraud'] == 1]\n",
    "    pass\n",
    "\n",
    "def exercise_7(df):\n",
    "    \n",
    "    pass\n",
    "\n",
    "def visual_1(df):\n",
    "    pass\n",
    "\n",
    "def visual_2(df):\n",
    "    pass\n",
    "\n",
    "def exercise_custom(df):\n",
    "    pass\n",
    "    \n",
    "def visual_custom(df):\n",
    "    pass"
   ]
  },
  {
   "cell_type": "code",
   "execution_count": null,
   "id": "346fc3fc",
   "metadata": {
    "id": "346fc3fc"
   },
   "outputs": [],
   "source": []
  },
  {
   "cell_type": "code",
   "execution_count": null,
   "id": "d07cb1ad-bfdd-4fcc-b100-f053cf272375",
   "metadata": {
    "id": "9158f0bd"
   },
   "outputs": [
    {
     "name": "stdout",
     "output_type": "stream",
     "text": [
      "        step      type     amount     nameOrig  oldbalanceOrg  newbalanceOrig  \\\n",
      "0          1   PAYMENT    9839.64  C1231006815       170136.0       160296.36   \n",
      "1          1   PAYMENT    1864.28  C1666544295        21249.0        19384.72   \n",
      "2          1  TRANSFER     181.00  C1305486145          181.0            0.00   \n",
      "3          1  CASH_OUT     181.00   C840083671          181.0            0.00   \n",
      "4          1   PAYMENT   11668.14  C2048537720        41554.0        29885.86   \n",
      "...      ...       ...        ...          ...            ...             ...   \n",
      "199995    13   CASH_IN  149024.27  C1446913085         8688.0       157712.27   \n",
      "199996    13   PAYMENT   71076.01  C1421983410        50291.0            0.00   \n",
      "199997    13  CASH_OUT  147125.05    C80624764            0.0            0.00   \n",
      "199998    13  CASH_OUT   97529.67   C595001108            0.0            0.00   \n",
      "199999    13  CASH_OUT  211748.46  C2048647654       496279.0       284530.54   \n",
      "\n",
      "           nameDest  oldbalanceDest  newbalanceDest  isFraud  isFlaggedFraud  \\\n",
      "0       M1979787155            0.00            0.00        0               0   \n",
      "1       M2044282225            0.00            0.00        0               0   \n",
      "2        C553264065            0.00            0.00        1               0   \n",
      "3         C38997010        21182.00            0.00        1               0   \n",
      "4       M1230701703            0.00            0.00        0               0   \n",
      "...             ...             ...             ...      ...             ...   \n",
      "199995   C476402209       440028.59       321427.51        0               0   \n",
      "199996   M855368711            0.00            0.00        0               0   \n",
      "199997   C747330421      1058502.64      1325544.47        0               0   \n",
      "199998   C575555170      1921846.97      2019376.64        0               0   \n",
      "199999  C1091477477            0.00       211748.46        0               0   \n",
      "\n",
      "        freq_count Fraud Detected  \n",
      "0              1.0            NaN  \n",
      "1              1.0            NaN  \n",
      "2              8.0          Fraud  \n",
      "3              7.0          Fraud  \n",
      "4              1.0            NaN  \n",
      "...            ...            ...  \n",
      "199995         NaN            NaN  \n",
      "199996         NaN            NaN  \n",
      "199997         NaN            NaN  \n",
      "199998         NaN            NaN  \n",
      "199999         NaN            NaN  \n",
      "\n",
      "[200000 rows x 13 columns]\n"
     ]
    },
    {
     "data": {
      "text/plain": [
       "<AxesSubplot:>"
      ]
     },
     "execution_count": 58,
     "metadata": {},
     "output_type": "execute_result"
    },
    {
     "data": {
      "image/png": "[encoded data removed]",
      "text/plain": [
       "<Figure size 432x288 with 1 Axes>"
      ]
     },
     "metadata": {
      "needs_background": "light"
     },
     "output_type": "display_data"
    }
   ],
   "source": []
  },
  {
   "cell_type": "markdown",
   "id": "ed2dc2f4",
   "metadata": {
    "id": "ed2dc2f4"
   },
   "source": [
    "Create graphs for the following. \n",
    "1. Transaction types bar chart, Transaction types split by fraud bar chart\n",
    "1. Origin account balance delta v. Destination account balance delta scatter plot for Cash Out transactions\n",
    "\n",
    "Ensure that the graphs have the following:\n",
    " - Title\n",
    " - Labeled Axes\n",
    " \n",
    "The function plot the graph and then return a string containing a short description explaining the relevance of the chart."
   ]
  },
  {
   "cell_type": "code",
   "execution_count": 8,
   "id": "ab229b34",
   "metadata": {
    "id": "ab229b34"
   },
   "outputs": [
    {
     "ename": "AttributeError",
     "evalue": "'NoneType' object has no attribute 'plot'",
     "output_type": "error",
     "traceback": [
      "\u001b[0;31m---------------------------------------------------------------------------\u001b[0m",
      "\u001b[0;31mAttributeError\u001b[0m                            Traceback (most recent call last)",
      "Input \u001b[0;32mIn [8]\u001b[0m, in \u001b[0;36m<cell line: 30>\u001b[0;34m()\u001b[0m\n\u001b[1;32m     27\u001b[0m           ax\u001b[38;5;241m.\u001b[39mannotate(p\u001b[38;5;241m.\u001b[39mget_height(), (p\u001b[38;5;241m.\u001b[39mget_x(), p\u001b[38;5;241m.\u001b[39mget_height()))\n\u001b[1;32m     28\u001b[0m     \u001b[38;5;28;01mreturn\u001b[39;00m ax\n\u001b[0;32m---> 30\u001b[0m \u001b[43mvisual_1\u001b[49m\u001b[43m(\u001b[49m\u001b[43mdf\u001b[49m\u001b[43m)\u001b[49m\n",
      "Input \u001b[0;32mIn [8]\u001b[0m, in \u001b[0;36mvisual_1\u001b[0;34m(df)\u001b[0m\n\u001b[1;32m     12\u001b[0m     \u001b[38;5;28;01mpass\u001b[39;00m\n\u001b[1;32m     14\u001b[0m fig, axs \u001b[38;5;241m=\u001b[39m plt\u001b[38;5;241m.\u001b[39msubplots(\u001b[38;5;241m2\u001b[39m, figsize\u001b[38;5;241m=\u001b[39m(\u001b[38;5;241m6\u001b[39m,\u001b[38;5;241m10\u001b[39m))\n\u001b[0;32m---> 15\u001b[0m \u001b[43mtransaction_counts\u001b[49m\u001b[43m(\u001b[49m\u001b[43mdf\u001b[49m\u001b[43m)\u001b[49m\u001b[38;5;241;43m.\u001b[39;49m\u001b[43mplot\u001b[49m(ax\u001b[38;5;241m=\u001b[39maxs[\u001b[38;5;241m0\u001b[39m], kind\u001b[38;5;241m=\u001b[39m\u001b[38;5;124m'\u001b[39m\u001b[38;5;124mbar\u001b[39m\u001b[38;5;124m'\u001b[39m)\n\u001b[1;32m     16\u001b[0m axs[\u001b[38;5;241m0\u001b[39m]\u001b[38;5;241m.\u001b[39mset_title(\u001b[38;5;124m'\u001b[39m\u001b[38;5;124mTransaction type\u001b[39m\u001b[38;5;124m'\u001b[39m)\n\u001b[1;32m     17\u001b[0m axs[\u001b[38;5;241m0\u001b[39m]\u001b[38;5;241m.\u001b[39mset_xlabel(\u001b[38;5;124m'\u001b[39m\u001b[38;5;124mTransaction\u001b[39m\u001b[38;5;124m'\u001b[39m)\n",
      "\u001b[0;31mAttributeError\u001b[0m: 'NoneType' object has no attribute 'plot'"
     ]
    },
    {
     "data": {
      "image/png": "[encoded data removed]",
      "text/plain": [
       "<Figure size 432x720 with 2 Axes>"
      ]
     },
     "metadata": {
      "needs_background": "light"
     },
     "output_type": "display_data"
    },
    {
     "data": {
      "image/png": "[encoded data removed]",
      "text/plain": [
       "<Figure size 432x288 with 1 Axes>"
      ]
     },
     "metadata": {
      "needs_background": "light"
     },
     "output_type": "display_data"
    }
   ],
   "source": [
    "import pandas as pd\n",
    "import matplotlib.pyplot as plt\n",
    "\n",
    "df = pd.read_csv('transactions.csv')\n",
    "def visual_1(df):\n",
    "    def transaction_counts(df):\n",
    "        fig, ax = plt.subplots()\n",
    "        df['type'].value_counts().plot(ax=ax, kind='bar')\n",
    "        pass\n",
    "    def transaction_counts_split_by_fraud(df):\n",
    "        # TODO\n",
    "        pass\n",
    "\n",
    "    fig, axs = plt.subplots(2, figsize=(6,10))\n",
    "    transaction_counts(df).plot(ax=axs[0], kind='bar')\n",
    "    axs[0].set_title('Transaction type')\n",
    "    axs[0].set_xlabel('Transaction')\n",
    "    axs[0].set_ylabel('Type')\n",
    "    transaction_counts_split_by_fraud(df).plot(ax=axs[1], kind='bar')\n",
    "    axs[1].set_title('TODO')\n",
    "    axs[1].set_xlabel('TODO')\n",
    "    axs[1].set_ylabel('TODO')\n",
    "    fig.suptitle('TODO')\n",
    "    fig.tight_layout(rect=[0, 0.03, 1, 0.95])\n",
    "    for ax in axs:\n",
    "      for p in ax.patches:\n",
    "          ax.annotate(p.get_height(), (p.get_x(), p.get_height()))\n",
    "    return ax\n",
    "\n",
    "visual_1(df)\n"
   ]
  },
  {
   "cell_type": "code",
   "execution_count": 47,
   "id": "2e6d485e-027b-40ad-9315-64e184b8fda2",
   "metadata": {
    "id": "9158f0bd"
   },
   "outputs": [
    {
     "data": {
      "text/plain": [
       "<AxesSubplot:>"
      ]
     },
     "execution_count": 47,
     "metadata": {},
     "output_type": "execute_result"
    },
    {
     "data": {
      "image/png": "[encoded data removed]",
      "text/plain": [
       "<Figure size 432x288 with 1 Axes>"
      ]
     },
     "metadata": {
      "needs_background": "light"
     },
     "output_type": "display_data"
    }
   ],
   "source": [
    "fig, ax = plt.subplots()\n",
    "df['type'].value_counts().plot(ax=ax, kind='bar')"
   ]
  },
  {
   "cell_type": "code",
   "execution_count": null,
   "id": "38ab2f47",
   "metadata": {
    "id": "38ab2f47"
   },
   "outputs": [],
   "source": [
    "def visual_2(df):\n",
    "    def query(df):\n",
    "        # TODO\n",
    "        pass\n",
    "    plot = query(df).plot.scatter(x='TODO',y='TODO')\n",
    "    plot.set_title('TODO')\n",
    "    plot.set_xlim(left=-1e3, right=1e3)\n",
    "    plot.set_ylim(bottom=-1e3, top=1e3)\n",
    "    return 'TODO'\n",
    "\n",
    "visual_2(df)\n"
   ]
  },
  {
   "cell_type": "markdown",
   "id": "f572d06d",
   "metadata": {
    "id": "f572d06d"
   },
   "source": [
    "Use your newly-gained Pandas skills to find an insight from the dataset. You have full flexibility to go in whichever direction interests you. Please create a visual as above for this query. `visual_custom` should call `exercise_custom`."
   ]
  },
  {
   "cell_type": "code",
   "execution_count": null,
   "id": "5393e5c5",
   "metadata": {
    "id": "5393e5c5"
   },
   "outputs": [],
   "source": [
    "def exercise_custom(df):\n",
    "    # TODO\n",
    "    pass\n",
    "    \n",
    "def visual_custom(df):\n",
    "    # TODO\n",
    "    pass"
   ]
  },
  {
   "cell_type": "markdown",
   "id": "ddecc786",
   "metadata": {
    "id": "ddecc786"
   },
   "source": [
    "Submission\n",
    "\n",
    "1. Copy the exercises into `task1.py`.\n",
    "2. Upload `task1.py` to Forage."
   ]
  },
  {
   "cell_type": "markdown",
   "id": "qpIxC3xgQpOo",
   "metadata": {
    "id": "qpIxC3xgQpOo"
   },
   "source": [
    "All done!\n",
    "\n",
    "Your work will be instrumental for our team's continued success."
   ]
  }
 ],
 "metadata": {
  "colab": {
   "collapsed_sections": [],
   "name": "task1.ipynb",
   "provenance": []
  },
  "kernelspec": {
   "display_name": "Python 3 (ipykernel)",
   "language": "python",
   "name": "python3"
  },
  "language_info": {
   "codemirror_mode": {
    "name": "ipython",
    "version": 3
   },
   "file_extension": ".py",
   "mimetype": "text/x-python",
   "name": "python",
   "nbconvert_exporter": "python",
   "pygments_lexer": "ipython3",
   "version": "3.9.12"
  }
 },
 "nbformat": 4,
 "nbformat_minor": 5
}
